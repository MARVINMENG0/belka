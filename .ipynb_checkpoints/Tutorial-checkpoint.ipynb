{
 "cells": [
  {
   "cell_type": "code",
   "execution_count": null,
   "id": "42710d4a-e94e-450e-80d8-4341edcbcc94",
   "metadata": {},
   "outputs": [],
   "source": [
    "con = duckdb.connect()\n",
    "train_sample = con.query(f\"\"\"\n",
    "(\n",
    "select * from parquet_scan('/home/jovyan/train.parquet')\n",
    "where binds = 0\n",
    "order by random()\n",
    "limit 30000)\n",
    "union all \n",
    "(select * from parquet_scan('/home/jovyan/train.parquet')\n",
    "where binds = 1\n",
    "order by random()\n",
    "limit 30000\n",
    ")\"\"\").df()\n",
    "con.close()\n",
    "\n"
   ]
  },
  {
   "cell_type": "code",
   "execution_count": null,
   "id": "dac8a06c-aa34-4b21-b99d-dc82a8f19f10",
   "metadata": {},
   "outputs": [],
   "source": [
    "def generate_ecfp(molecule, radius=2, bits = 1024):\n",
    "    if molecule is None:\n",
    "        return None\n",
    "    return list(AllChem.GetMorganFingerprintAsBitVect(molecule, radius, nBits=bits))\n",
    "\n",
    "\n",
    "ecfp_udf = udf(generate_ecfp, StringType())\n",
    "\n",
    "get_molecule_udf = udf(lambda x: Chem.MolFromSmiles(x), StringType())"
   ]
  },
  {
   "cell_type": "code",
   "execution_count": null,
   "id": "158d9c6c-37fd-4842-8bfb-ed54cc67e262",
   "metadata": {},
   "outputs": [],
   "source": [
    "test_sample_data = sample_data.withColumn(\"molecule\", get_molecule_udf(sample_data[\"molecule_smiles\"].astype(StringType())))\n",
    "# test_sample_data = test_sample_data.withColumn('ecfp', ecfp_udf(test_sample_data[\"molecule\"]))\n",
    "# test_sample_data.show()"
   ]
  },
  {
   "cell_type": "code",
   "execution_count": null,
   "id": "5b6509de-6926-409d-b023-e0850ca2548d",
   "metadata": {},
   "outputs": [],
   "source": [
    "### Vector embedding molecule\n",
    "train_sample['molecule'] = pandas_train_1['molecule_smiles'].apply(Chem.MolFromSmiles)\n",
    "train_sample['ecfp'] = train_sample['molecule'].apply(generate_ecfp)\n",
    "\n",
    "\n",
    "# ### Vector Embedding / Encoding protein name\n",
    "\n",
    "oneHot = OneHotEncoder(sparse=False)\n",
    "protein_oneHot = oneHot.fit_transform(train_sample['protein_name'].values.reshape(-1,1))\n",
    "\n",
    "train_sample['encoded_protein_name'] = protein_oneHot.tolist()\n",
    "\n",
    "# X = [ecfp + protein for ecfp, protein in zip(train_sample['ecfp'], train_sample['encoded_protein_name'])]\n",
    "# y = train_sample['binds'].tolist()\n",
    "\n",
    "# x_train, x_test, y_train, y_test = train_test_split(X, y, test_size=.2, random_state=42)\n",
    "\n",
    "# rf = RandomForestClassifier(n_estimators=100, random_state=42)\n",
    "# rf.fit(x_train, y_train)"
   ]
  },
  {
   "cell_type": "code",
   "execution_count": null,
   "id": "076edd1e-886d-4526-99ed-ac3592bc5983",
   "metadata": {},
   "outputs": [],
   "source": [
    "predictions = rf.predict(x_test)\n",
    "prob_predictions = rf.predict_proba(x_test)[:, 1]\n",
    "print(\"Rounded Predictions:\", average_precision_score(y_test, predictions))\n",
    "print(\"Probability Predictions:\", average_precision_score(y_test, prob_predictions))"
   ]
  },
  {
   "cell_type": "markdown",
   "id": "d83c3b30-6601-4637-9977-8945386f886f",
   "metadata": {},
   "source": [
    "# Test"
   ]
  },
  {
   "cell_type": "code",
   "execution_count": null,
   "id": "ad169e5c-023f-4d19-9ef0-04c7e5153e3b",
   "metadata": {},
   "outputs": [],
   "source": [
    "for test_csv in pd.read_csv(\"test.csv\", chunksize=100_000):\n",
    "    ### Vectorize molecule_smiles\n",
    "    test_csv['molecule'] = test_csv['molecule_smiles'].apply(Chem.MolFromSmiles)\n",
    "    test_csv['ecfp'] = test_csv['molecule'].apply(generate_ecfp)\n",
    "    \n",
    "    ### Encode protein_name\n",
    "    oneHotEncoderTest = OneHotEncoder(sparse=False)\n",
    "    test_csv['encoded_protein_name'] = oneHotEncoderTest.transform(test_csv['protein_name'].values.reshape(-1,1)).tolist()\n",
    "\n",
    "    x_test = [ecfp + protein for ecfp, protein in zip(test_csv['ecfp'], test_csv['encoded_protein_name'])]\n",
    "    y_test = test_csv['binds'].tolist()\n",
    "\n",
    "    test_pred = rf.transform(x_test)\n",
    "    accuracy_precision_score(y_test, test_pred)"
   ]
  },
  {
   "cell_type": "code",
   "execution_count": null,
   "id": "a56f085c-0693-4b47-bdaa-c92815e1caef",
   "metadata": {},
   "outputs": [],
   "source": []
  },
  {
   "cell_type": "code",
   "execution_count": null,
   "id": "dd373835-3536-494e-96ea-1456b131e3f6",
   "metadata": {},
   "outputs": [],
   "source": []
  }
 ],
 "metadata": {
  "kernelspec": {
   "display_name": "Python 3 (ipykernel)",
   "language": "python",
   "name": "python3"
  },
  "language_info": {
   "codemirror_mode": {
    "name": "ipython",
    "version": 3
   },
   "file_extension": ".py",
   "mimetype": "text/x-python",
   "name": "python",
   "nbconvert_exporter": "python",
   "pygments_lexer": "ipython3",
   "version": "3.10.11"
  }
 },
 "nbformat": 4,
 "nbformat_minor": 5
}
