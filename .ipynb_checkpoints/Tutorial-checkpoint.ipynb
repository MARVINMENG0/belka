{
 "cells": [
  {
   "cell_type": "code",
   "execution_count": 12,
   "id": "3fcf2447-4ac0-4bbb-917f-109525924a10",
   "metadata": {},
   "outputs": [],
   "source": [
    "import duckdb\n",
    "import pandas as pd\n",
    "# import findspark\n",
    "# findspark.init()\n",
    "import pyspark\n",
    "from pyspark.conf import SparkConf\n",
    "\n",
    "from pyspark.sql import SparkSession\n",
    "import pyspark.sql.functions as F\n",
    "from pyspark.sql.functions import udf, pandas_udf, PandasUDFType\n",
    "from pyspark.sql.types import ArrayType, FloatType, IntegerType, StructType, StructField, StringType, LongType\n",
    "from pyspark.ml.feature import StringIndexer, OneHotEncoder, Word2Vec\n",
    "from imblearn.over_sampling import SMOTE\n",
    "import rdkit\n",
    "from rdkit import Chem\n",
    "from rdkit.Chem import AllChem\n",
    "\n",
    "from sklearn.ensemble import RandomForestClassifier\n",
    "from sklearn.model_selection import train_test_split\n",
    "from sklearn.metrics import average_precision_score\n",
    "from sklearn.preprocessing import OneHotEncoder\n",
    "\n",
    "import mlflow\n",
    "\n",
    "import numpy as np\n",
    "\n",
    "import torch\n",
    "from torch.utils.data import Dataset, DataLoader\n",
    "\n",
    "import sklearn\n",
    "import time\n",
    "# import h2o\n",
    "# from h2o.estimators import H2OGradientBoostingEstimator\n",
    "# from h2o.frame import H2OFrame\n",
    "# from pysparkling import H2OContext\n",
    "# import pysparkling"
   ]
  },
  {
   "cell_type": "code",
   "execution_count": 6,
   "id": "42710d4a-e94e-450e-80d8-4341edcbcc94",
   "metadata": {},
   "outputs": [
    {
     "data": {
      "application/vnd.jupyter.widget-view+json": {
       "model_id": "ac07c4112d8943acbe3da64ab096cafa",
       "version_major": 2,
       "version_minor": 0
      },
      "text/plain": [
       "FloatProgress(value=0.0, layout=Layout(width='auto'), style=ProgressStyle(bar_color='black'))"
      ]
     },
     "metadata": {},
     "output_type": "display_data"
    },
    {
     "ename": "AttributeError",
     "evalue": "'DataFrame' object has no attribute 'toPandas'",
     "output_type": "error",
     "traceback": [
      "\u001b[0;31m---------------------------------------------------------------------------\u001b[0m",
      "\u001b[0;31mAttributeError\u001b[0m                            Traceback (most recent call last)",
      "\u001b[0;32m/tmp/ipykernel_88/664964491.py\u001b[0m in \u001b[0;36m?\u001b[0;34m()\u001b[0m\n\u001b[1;32m     12\u001b[0m \u001b[0mlimit\u001b[0m \u001b[0;36m30000\u001b[0m\u001b[0;34m\u001b[0m\u001b[0;34m\u001b[0m\u001b[0m\n\u001b[1;32m     13\u001b[0m )\"\"\").df()\n\u001b[1;32m     14\u001b[0m \u001b[0mcon\u001b[0m\u001b[0;34m.\u001b[0m\u001b[0mclose\u001b[0m\u001b[0;34m(\u001b[0m\u001b[0;34m)\u001b[0m\u001b[0;34m\u001b[0m\u001b[0;34m\u001b[0m\u001b[0m\n\u001b[1;32m     15\u001b[0m \u001b[0;34m\u001b[0m\u001b[0m\n\u001b[0;32m---> 16\u001b[0;31m \u001b[0mpandas_train_1\u001b[0m \u001b[0;34m=\u001b[0m \u001b[0mtrain_sample\u001b[0m\u001b[0;34m.\u001b[0m\u001b[0mtoPandas\u001b[0m\u001b[0;34m(\u001b[0m\u001b[0;34m)\u001b[0m\u001b[0;34m\u001b[0m\u001b[0;34m\u001b[0m\u001b[0m\n\u001b[0m",
      "\u001b[0;32m/opt/conda/lib/python3.10/site-packages/pandas/core/generic.py\u001b[0m in \u001b[0;36m?\u001b[0;34m(self, name)\u001b[0m\n\u001b[1;32m   5898\u001b[0m             \u001b[0;32mand\u001b[0m \u001b[0mname\u001b[0m \u001b[0;32mnot\u001b[0m \u001b[0;32min\u001b[0m \u001b[0mself\u001b[0m\u001b[0;34m.\u001b[0m\u001b[0m_accessors\u001b[0m\u001b[0;34m\u001b[0m\u001b[0;34m\u001b[0m\u001b[0m\n\u001b[1;32m   5899\u001b[0m             \u001b[0;32mand\u001b[0m \u001b[0mself\u001b[0m\u001b[0;34m.\u001b[0m\u001b[0m_info_axis\u001b[0m\u001b[0;34m.\u001b[0m\u001b[0m_can_hold_identifiers_and_holds_name\u001b[0m\u001b[0;34m(\u001b[0m\u001b[0mname\u001b[0m\u001b[0;34m)\u001b[0m\u001b[0;34m\u001b[0m\u001b[0;34m\u001b[0m\u001b[0m\n\u001b[1;32m   5900\u001b[0m         ):\n\u001b[1;32m   5901\u001b[0m             \u001b[0;32mreturn\u001b[0m \u001b[0mself\u001b[0m\u001b[0;34m[\u001b[0m\u001b[0mname\u001b[0m\u001b[0;34m]\u001b[0m\u001b[0;34m\u001b[0m\u001b[0;34m\u001b[0m\u001b[0m\n\u001b[0;32m-> 5902\u001b[0;31m         \u001b[0;32mreturn\u001b[0m \u001b[0mobject\u001b[0m\u001b[0;34m.\u001b[0m\u001b[0m__getattribute__\u001b[0m\u001b[0;34m(\u001b[0m\u001b[0mself\u001b[0m\u001b[0;34m,\u001b[0m \u001b[0mname\u001b[0m\u001b[0;34m)\u001b[0m\u001b[0;34m\u001b[0m\u001b[0;34m\u001b[0m\u001b[0m\n\u001b[0m",
      "\u001b[0;31mAttributeError\u001b[0m: 'DataFrame' object has no attribute 'toPandas'"
     ]
    }
   ],
   "source": [
    "con = duckdb.connect()\n",
    "train_sample = con.query(f\"\"\"\n",
    "(\n",
    "select * from parquet_scan('/home/jovyan/train.parquet')\n",
    "where binds = 0\n",
    "order by random()\n",
    "limit 30000)\n",
    "union all \n",
    "(select * from parquet_scan('/home/jovyan/train.parquet')\n",
    "where binds = 1\n",
    "order by random()\n",
    "limit 30000\n",
    ")\"\"\").df()\n",
    "con.close()"
   ]
  },
  {
   "cell_type": "code",
   "execution_count": 3,
   "id": "dac8a06c-aa34-4b21-b99d-dc82a8f19f10",
   "metadata": {},
   "outputs": [],
   "source": [
    "def generate_ecfp(molecule, radius=2, bits = 1024):\n",
    "    if molecule is None:\n",
    "        return None\n",
    "    return list(AllChem.GetMorganFingerprintAsBitVect(molecule, radius, nBits=bits))\n",
    "\n",
    "\n",
    "ecfp_udf = udf(generate_ecfp, StringType())\n",
    "\n",
    "get_molecule_udf = udf(lambda x: Chem.MolFromSmiles(x), StringType())"
   ]
  },
  {
   "cell_type": "code",
   "execution_count": 9,
   "id": "158d9c6c-37fd-4842-8bfb-ed54cc67e262",
   "metadata": {},
   "outputs": [
    {
     "ename": "AttributeError",
     "evalue": "'DataFrame' object has no attribute 'withColumn'",
     "output_type": "error",
     "traceback": [
      "\u001b[0;31m---------------------------------------------------------------------------\u001b[0m",
      "\u001b[0;31mAttributeError\u001b[0m                            Traceback (most recent call last)",
      "\u001b[0;32m/tmp/ipykernel_88/516471297.py\u001b[0m in \u001b[0;36m?\u001b[0;34m()\u001b[0m\n\u001b[0;32m----> 1\u001b[0;31m \u001b[0mtest_sample_data\u001b[0m \u001b[0;34m=\u001b[0m \u001b[0mtrain_sample\u001b[0m\u001b[0;34m.\u001b[0m\u001b[0mwithColumn\u001b[0m\u001b[0;34m(\u001b[0m\u001b[0;34m\"molecule\"\u001b[0m\u001b[0;34m,\u001b[0m \u001b[0mget_molecule_udf\u001b[0m\u001b[0;34m(\u001b[0m\u001b[0msample_data\u001b[0m\u001b[0;34m[\u001b[0m\u001b[0;34m\"molecule_smiles\"\u001b[0m\u001b[0;34m]\u001b[0m\u001b[0;34m.\u001b[0m\u001b[0mastype\u001b[0m\u001b[0;34m(\u001b[0m\u001b[0mStringType\u001b[0m\u001b[0;34m(\u001b[0m\u001b[0;34m)\u001b[0m\u001b[0;34m)\u001b[0m\u001b[0;34m)\u001b[0m\u001b[0;34m)\u001b[0m\u001b[0;34m\u001b[0m\u001b[0;34m\u001b[0m\u001b[0m\n\u001b[0m\u001b[1;32m      2\u001b[0m \u001b[0;31m# test_sample_data = test_sample_data.withColumn('ecfp', ecfp_udf(test_sample_data[\"molecule\"]))\u001b[0m\u001b[0;34m\u001b[0m\u001b[0;34m\u001b[0m\u001b[0m\n\u001b[1;32m      3\u001b[0m \u001b[0;31m# test_sample_data.show()\u001b[0m\u001b[0;34m\u001b[0m\u001b[0;34m\u001b[0m\u001b[0m\n",
      "\u001b[0;32m/opt/conda/lib/python3.10/site-packages/pandas/core/generic.py\u001b[0m in \u001b[0;36m?\u001b[0;34m(self, name)\u001b[0m\n\u001b[1;32m   5898\u001b[0m             \u001b[0;32mand\u001b[0m \u001b[0mname\u001b[0m \u001b[0;32mnot\u001b[0m \u001b[0;32min\u001b[0m \u001b[0mself\u001b[0m\u001b[0;34m.\u001b[0m\u001b[0m_accessors\u001b[0m\u001b[0;34m\u001b[0m\u001b[0;34m\u001b[0m\u001b[0m\n\u001b[1;32m   5899\u001b[0m             \u001b[0;32mand\u001b[0m \u001b[0mself\u001b[0m\u001b[0;34m.\u001b[0m\u001b[0m_info_axis\u001b[0m\u001b[0;34m.\u001b[0m\u001b[0m_can_hold_identifiers_and_holds_name\u001b[0m\u001b[0;34m(\u001b[0m\u001b[0mname\u001b[0m\u001b[0;34m)\u001b[0m\u001b[0;34m\u001b[0m\u001b[0;34m\u001b[0m\u001b[0m\n\u001b[1;32m   5900\u001b[0m         ):\n\u001b[1;32m   5901\u001b[0m             \u001b[0;32mreturn\u001b[0m \u001b[0mself\u001b[0m\u001b[0;34m[\u001b[0m\u001b[0mname\u001b[0m\u001b[0;34m]\u001b[0m\u001b[0;34m\u001b[0m\u001b[0;34m\u001b[0m\u001b[0m\n\u001b[0;32m-> 5902\u001b[0;31m         \u001b[0;32mreturn\u001b[0m \u001b[0mobject\u001b[0m\u001b[0;34m.\u001b[0m\u001b[0m__getattribute__\u001b[0m\u001b[0;34m(\u001b[0m\u001b[0mself\u001b[0m\u001b[0;34m,\u001b[0m \u001b[0mname\u001b[0m\u001b[0;34m)\u001b[0m\u001b[0;34m\u001b[0m\u001b[0;34m\u001b[0m\u001b[0m\n\u001b[0m",
      "\u001b[0;31mAttributeError\u001b[0m: 'DataFrame' object has no attribute 'withColumn'"
     ]
    }
   ],
   "source": [
    "test_sample_data = train_sample.withColumn(\"molecule\", get_molecule_udf(sample_data[\"molecule_smiles\"].astype(StringType())))\n",
    "# test_sample_data = test_sample_data.withColumn('ecfp', ecfp_udf(test_sample_data[\"molecule\"]))\n",
    "# test_sample_data.show()"
   ]
  },
  {
   "cell_type": "code",
   "execution_count": null,
   "id": "5b6509de-6926-409d-b023-e0850ca2548d",
   "metadata": {},
   "outputs": [],
   "source": [
    "### Vector embedding molecule\n",
    "train_sample['molecule'] = train_sample['molecule_smiles'].apply(Chem.MolFromSmiles)\n",
    "train_sample['ecfp'] = train_sample['molecule'].apply(generate_ecfp)\n",
    "\n",
    "\n",
    "# ### Vector Embedding / Encoding protein name\n",
    "\n",
    "oneHot = OneHotEncoder(sparse=False)\n",
    "protein_oneHot = oneHot.fit_transform(train_sample['protein_name'].values.reshape(-1,1))\n",
    "\n",
    "train_sample['encoded_protein_name'] = protein_oneHot.tolist()\n",
    "\n",
    "# X = [ecfp + protein for ecfp, protein in zip(train_sample['ecfp'], train_sample['encoded_protein_name'])]\n",
    "# y = train_sample['binds'].tolist()\n",
    "\n",
    "# x_train, x_test, y_train, y_test = train_test_split(X, y, test_size=.2, random_state=42)\n",
    "\n",
    "# rf = RandomForestClassifier(n_estimators=100, random_state=42)\n",
    "# rf.fit(x_train, y_train)"
   ]
  },
  {
   "cell_type": "code",
   "execution_count": null,
   "id": "076edd1e-886d-4526-99ed-ac3592bc5983",
   "metadata": {},
   "outputs": [],
   "source": [
    "predictions = rf.predict(x_test)\n",
    "prob_predictions = rf.predict_proba(x_test)[:, 1]\n",
    "print(\"Rounded Predictions:\", average_precision_score(y_test, predictions))\n",
    "print(\"Probability Predictions:\", average_precision_score(y_test, prob_predictions))"
   ]
  },
  {
   "cell_type": "markdown",
   "id": "d83c3b30-6601-4637-9977-8945386f886f",
   "metadata": {},
   "source": [
    "# Test"
   ]
  },
  {
   "cell_type": "code",
   "execution_count": null,
   "id": "ad169e5c-023f-4d19-9ef0-04c7e5153e3b",
   "metadata": {},
   "outputs": [],
   "source": [
    "for test_csv in pd.read_csv(\"test.csv\", chunksize=100_000):\n",
    "    ### Vectorize molecule_smiles\n",
    "    test_csv['molecule'] = test_csv['molecule_smiles'].apply(Chem.MolFromSmiles)\n",
    "    test_csv['ecfp'] = test_csv['molecule'].apply(generate_ecfp)\n",
    "    \n",
    "    ### Encode protein_name\n",
    "    oneHotEncoderTest = OneHotEncoder(sparse=False)\n",
    "    test_csv['encoded_protein_name'] = oneHotEncoderTest.transform(test_csv['protein_name'].values.reshape(-1,1)).tolist()\n",
    "\n",
    "    x_test = [ecfp + protein for ecfp, protein in zip(test_csv['ecfp'], test_csv['encoded_protein_name'])]\n",
    "    y_test = test_csv['binds'].tolist()\n",
    "\n",
    "    test_pred = rf.transform(x_test)\n",
    "    accuracy_precision_score(y_test, test_pred)"
   ]
  },
  {
   "cell_type": "code",
   "execution_count": null,
   "id": "a56f085c-0693-4b47-bdaa-c92815e1caef",
   "metadata": {},
   "outputs": [],
   "source": []
  },
  {
   "cell_type": "code",
   "execution_count": null,
   "id": "dd373835-3536-494e-96ea-1456b131e3f6",
   "metadata": {},
   "outputs": [],
   "source": []
  }
 ],
 "metadata": {
  "kernelspec": {
   "display_name": "Python 3 (ipykernel)",
   "language": "python",
   "name": "python3"
  },
  "language_info": {
   "codemirror_mode": {
    "name": "ipython",
    "version": 3
   },
   "file_extension": ".py",
   "mimetype": "text/x-python",
   "name": "python",
   "nbconvert_exporter": "python",
   "pygments_lexer": "ipython3",
   "version": "3.10.11"
  }
 },
 "nbformat": 4,
 "nbformat_minor": 5
}
